{
 "cells": [
  {
   "cell_type": "code",
   "execution_count": 1,
   "id": "5a439b2c",
   "metadata": {},
   "outputs": [
    {
     "name": "stdout",
     "output_type": "stream",
     "text": [
      "2\n"
     ]
    }
   ],
   "source": [
    "# Function index\n",
    "print(\"Pizza\".index(\"z\"))"
   ]
  },
  {
   "cell_type": "code",
   "execution_count": 2,
   "id": "cf547e47",
   "metadata": {},
   "outputs": [
    {
     "name": "stdout",
     "output_type": "stream",
     "text": [
      "2\n"
     ]
    }
   ],
   "source": [
    "# Function count\n",
    "print(\"Pizza\".count(\"z\"))\n"
   ]
  },
  {
   "cell_type": "code",
   "execution_count": 3,
   "id": "4c5292af",
   "metadata": {},
   "outputs": [
    {
     "name": "stdout",
     "output_type": "stream",
     "text": [
      "bread,milk,eggs\n"
     ]
    }
   ],
   "source": [
    "# Formating string\n",
    "shopping_list = [\"bread\", \"milk\", \"eggs\"]\n",
    "print(','.join(shopping_list))"
   ]
  },
  {
   "cell_type": "code",
   "execution_count": 1,
   "id": "2928f39d",
   "metadata": {},
   "outputs": [
    {
     "name": "stdout",
     "output_type": "stream",
     "text": [
      "2020-07-04 12:15:58\n"
     ]
    }
   ],
   "source": [
    "import datetime\n",
    "d = datetime.datetime(2020, 7, 4, 12, 15, 58)\n",
    "print('{:%Y-%m-%d %H:%M:%S}'.format(d))"
   ]
  },
  {
   "cell_type": "code",
   "execution_count": null,
   "id": "f4bb5f23",
   "metadata": {},
   "outputs": [
    {
     "name": "stdout",
     "output_type": "stream",
     "text": [
      "True\n",
      "False\n",
      "False\n"
     ]
    }
   ],
   "source": [
    "\"\"\"Create a function that takes two strings as arguments and return either True or False depending on whether the total number of characters in the first string is equal to the total number of characters in the second string.\"\"\"\n",
    "def compare(str1, str2):\n",
    "    return len(str1) == len(str2)\n",
    "\n",
    "\n",
    "print(compare(\"AB\", \"CD\"))              #> True\n",
    "print(compare(\"ABC\", \"DE\"))             #> False\n",
    "print(compare(\"hello\", \"App Academy\"))  #> False"
   ]
  },
  {
   "cell_type": "code",
   "execution_count": 9,
   "id": "c8abd79a",
   "metadata": {},
   "outputs": [
    {
     "name": "stdout",
     "output_type": "stream",
     "text": [
      "Hi, my name is Alex Ambrose\n",
      "Hi, my name is Amy Mayer\n",
      "Hi, my name is Rick Morty\n"
     ]
    }
   ],
   "source": [
    "\"\"\"Create a function that takes in two values, a first name, first and a last name, last. Your function should return the statement \"Hi, my name is _______ _______\" with the first name and last name values in the the statement.\"\"\"\n",
    "\n",
    "def format_name(first_name, last_name):\n",
    "    return(f'Hi, my name is {first_name} {last_name}')\n",
    "\n",
    "print(format_name(\"Alex\", \"Ambrose\"))  #> Hi, my name is Alex Ambrose\n",
    "print(format_name(\"Amy\", \"Mayer\"))     #> Hi, my name is Amy Mayer\n",
    "print(format_name(\"Rick\", \"Morty\"))    #> Hi, my name is Rick Morty\n"
   ]
  },
  {
   "cell_type": "code",
   "execution_count": 13,
   "id": "cf5e2c29",
   "metadata": {},
   "outputs": [
    {
     "name": "stdout",
     "output_type": "stream",
     "text": [
      "hem\n",
      "iculou\n",
      "endipit\n"
     ]
    }
   ],
   "source": [
    "\"\"\"Create a function called index_string that takes a string as an argument and returns that string from the index of 3, up to (but not including) the end of the string. See the example test cases for expected output.\"\"\"\n",
    "def index_string(word):\n",
    "    return word[3:-1]\n",
    "\n",
    "\n",
    "print(index_string(\"Alchemy\"))     #> hem\n",
    "print(index_string(\"Ridiculous\"))  #> iculou\n",
    "print(index_string(\"Serendipity\")) #> endipit"
   ]
  }
 ],
 "metadata": {
  "kernelspec": {
   "display_name": "Python 3",
   "language": "python",
   "name": "python3"
  },
  "language_info": {
   "codemirror_mode": {
    "name": "ipython",
    "version": 3
   },
   "file_extension": ".py",
   "mimetype": "text/x-python",
   "name": "python",
   "nbconvert_exporter": "python",
   "pygments_lexer": "ipython3",
   "version": "3.13.3"
  }
 },
 "nbformat": 4,
 "nbformat_minor": 5
}
